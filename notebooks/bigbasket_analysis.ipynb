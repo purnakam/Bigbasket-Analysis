{
  "cells": [
    {
      "cell_type": "markdown",
      "metadata": {},
      "source": [
        "# Bigbasket Analysis"
      ]
    },
    {
      "cell_type": "code",
      "execution_count": null,
      "metadata": {
        "id": "iwTjmnSSTxqL"
      },
      "outputs": [],
      "source": [
        "import numpy as np\n",
        "import pandas as pd\n",
        "import seaborn as sns\n",
        "import matplotlib.pyplot as plt\n",
        "import plotly.express as px\n",
        "import warnings\n",
        "warnings.filterwarnings('ignore')"
      ]
    },
    {
      "cell_type": "code",
      "execution_count": null,
      "metadata": {
        "colab": {
          "base_uri": "https://localhost:8080/",
          "height": 414
        },
        "id": "GKeTasWdUrLC",
        "outputId": "371d469d-a825-44f9-c551-f8e537cc06fb"
      },
      "outputs": [],
      "source": [
        "df = pd.read_csv('../data/BigBasket_Products.csv')\n",
        "df.head()"
      ]
    },
    {
      "cell_type": "code",
      "execution_count": null,
      "metadata": {
        "colab": {
          "base_uri": "https://localhost:8080/"
        },
        "id": "kXe7E50oUwN_",
        "outputId": "48868c22-82d8-48a2-d9e5-28383738a625"
      },
      "outputs": [],
      "source": [
        "df.info()"
      ]
    },
    {
      "cell_type": "code",
      "execution_count": null,
      "metadata": {
        "colab": {
          "base_uri": "https://localhost:8080/",
          "height": 463
        },
        "id": "bTx4ecGSU8BB",
        "outputId": "dda5214a-6901-4a61-b11c-b42da1a1e3ed"
      },
      "outputs": [],
      "source": [
        "df.describe(include='all')"
      ]
    },
    {
      "cell_type": "markdown",
      "metadata": {
        "id": "lN2B8N6HVx3v"
      },
      "source": [
        "## Step 1 :- Data Cleaning"
      ]
    },
    {
      "cell_type": "code",
      "execution_count": null,
      "metadata": {
        "id": "zGvIPN3rVHEq"
      },
      "outputs": [],
      "source": [
        "#  1. Drop Redundant Columns\n",
        "# 'index' column is just row number; can be dropped\n",
        "df.drop(columns = ['index'], inplace= True)"
      ]
    },
    {
      "cell_type": "code",
      "execution_count": null,
      "metadata": {
        "colab": {
          "base_uri": "https://localhost:8080/"
        },
        "id": "kkSvoslyWEgG",
        "outputId": "ceb72f3e-9159-4209-fd68-147afb8e4364"
      },
      "outputs": [],
      "source": [
        "# 2. Rename Columns for Consistency\n",
        "df.columns = df.columns.str.lower().str.strip().str.replace(' ', '_')\n",
        "df.columns"
      ]
    },
    {
      "cell_type": "code",
      "execution_count": null,
      "metadata": {
        "colab": {
          "base_uri": "https://localhost:8080/",
          "height": 366
        },
        "id": "afnLW7rpWjZx",
        "outputId": "975aa783-7f75-4fc2-c6e3-552b64475e54"
      },
      "outputs": [],
      "source": [
        "# 3. Check for Missing Values\n",
        "df.isnull().sum()"
      ]
    },
    {
      "cell_type": "code",
      "execution_count": null,
      "metadata": {
        "id": "Z4pxXVRaWj4r"
      },
      "outputs": [],
      "source": [
        "# 4. Handle Missing Data\n",
        "# Drop rows where product or brand is missing\n",
        "df.dropna(subset=['product','brand'], inplace = True)\n",
        "\n",
        "# Fill missing ratings with the median\n",
        "df['rating'].fillna(df['rating'].median(), inplace = True)\n",
        "\n",
        "# Fill missing descriptions with a placeholder\n",
        "df['description'].fillna('No description provided.', inplace = True)"
      ]
    },
    {
      "cell_type": "code",
      "execution_count": null,
      "metadata": {
        "id": "gXWMPbvnXSoF"
      },
      "outputs": [],
      "source": [
        "# 5. Add Discount and Discount % Columns\n",
        "df['discount'] = df['market_price'] - df['sale_price']\n",
        "df['discount_percent'] = ((df['discount'] / df['market_price']) * 100).round(2)"
      ]
    },
    {
      "cell_type": "code",
      "execution_count": null,
      "metadata": {
        "id": "upPSddtLXzU9"
      },
      "outputs": [],
      "source": [
        "# 6. Add Price Range Buckets\n",
        "df['price_range'] = pd.cut(df['sale_price'], bins = [0,50,100,200,500,1000,\n",
        "                                                     df['sale_price'].max()],\n",
        "                                                     labels = ['<50','50-100','100-200','200-500','500-1000','1000+'])"
      ]
    },
    {
      "cell_type": "code",
      "execution_count": null,
      "metadata": {
        "id": "XvkERktTYnCD"
      },
      "outputs": [],
      "source": [
        "# 7. Save Cleaned Data\n",
        "df.to_csv('../data/cleaned_bigbasket.csv', index = False)"
      ]
    },
    {
      "cell_type": "code",
      "execution_count": null,
      "metadata": {},
      "outputs": [],
      "source": [
        "#  Clean DataFrame\n",
        "df.head()"
      ]
    },
    {
      "cell_type": "markdown",
      "metadata": {},
      "source": [
        "## Step 2 :- Feature Engineering\n",
        " ### 2A :- Extract Numeric Features from price_range\n",
        "- extract numeric values from the `price_range` column, which contains price intervals as strings (e.g., `\"200-500\"`). The following features are engineered:\n",
        "\n",
        "- **`min_price`**: The lower bound of the price range.\n",
        "- **`max_price`**: The upper bound of the price range.\n",
        "- **`mid_price`**: The average of `min_price` and `max_price`, representing a central estimate.\n",
        "\n",
        "- These new features will help in price-based segmentation, trend analysis, and model training if used for predictions."
      ]
    },
    {
      "cell_type": "code",
      "execution_count": null,
      "metadata": {},
      "outputs": [],
      "source": [
        "df[['min_price', 'max_price']] = df['price_range'].str.extract(r'(\\d+)-(\\d+)').astype(float)\n",
        "df['mid_price'] = (df['min_price'] + df['max_price']) / 2\n",
        "df[['min_price', 'mid_price', 'max_price']].head() "
      ]
    },
    {
      "cell_type": "markdown",
      "metadata": {},
      "source": [
        "### 2B: Calculate Effective Price  \n",
        "Using either of the following formulas:\n",
        "\n",
        "- From absolute discount:  \n",
        "  `effective_price = sale_price - discount`\n",
        "\n",
        "\n",
        "This gives us the **actual price customers pay**, which allows more accurate price-based analysis."
      ]
    },
    {
      "cell_type": "code",
      "execution_count": null,
      "metadata": {},
      "outputs": [],
      "source": []
    },
    {
      "cell_type": "markdown",
      "metadata": {},
      "source": [
        "## Step 3 :- Exploratory Data Analysis (EDA)\n",
        "We'll explore:\n",
        "\n",
        "- Category & Subcategory distribution\n",
        "\n",
        "- Top brands\n",
        "\n",
        "- Price analysis\n",
        "\n",
        "- Discount distribution\n",
        "\n",
        "- Ratings overview"
      ]
    },
    {
      "cell_type": "code",
      "execution_count": null,
      "metadata": {},
      "outputs": [],
      "source": [
        "import plotly.io as pio\n",
        "pio.renderers.default = \"notebook\""
      ]
    },
    {
      "cell_type": "code",
      "execution_count": null,
      "metadata": {},
      "outputs": [],
      "source": [
        "# 1. Category-wise Product Count\n",
        "\n",
        "# Top 10 categories\n",
        "category_counts = df['category'].value_counts().nlargest(10)\n",
        "\n",
        "# Create bar chart\n",
        "plt.figure(figsize=(10,6))\n",
        "category_counts.plot(kind='bar', color='skyblue')\n",
        "plt.title('Top 10 Categories by Product Count')\n",
        "plt.xlabel('Category')\n",
        "plt.ylabel('Product Count')\n",
        "plt.xticks(rotation=45, ha='right')\n",
        "plt.tight_layout()\n",
        "\n",
        "# Save image\n",
        "plt.savefig(\"../reports/category_distribution.png\")\n",
        "plt.show()\n"
      ]
    },
    {
      "cell_type": "code",
      "execution_count": null,
      "metadata": {},
      "outputs": [],
      "source": [
        "# 2. Subcategory Distribution (within top Category)\n",
        "top_cat = df['category'].value_counts().idxmax()\n",
        "sub_df = df[df['category'] == top_cat]\n",
        "\n",
        "fig = px.bar(sub_df['sub_category'].value_counts(),\n",
        "             title = f'Subcategories under \"{top_cat}\"',\n",
        "             labels = {'value' : 'Product Count', 'index' : 'Subcategory'})\n",
        "\n",
        "fig.show()"
      ]
    },
    {
      "cell_type": "code",
      "execution_count": null,
      "metadata": {},
      "outputs": [],
      "source": [
        "# 3. Top Brands\n",
        "top_brands = df['brand'].value_counts().nlargest(10)\n",
        "\n",
        "fig = px.bar(top_brands,\n",
        "             title = 'Top 10 Brands by Product Listings',\n",
        "             labels = {'value' : 'Product Count', 'index' : 'Brand'})\n",
        "\n",
        "fig.show()"
      ]
    },
    {
      "cell_type": "code",
      "execution_count": null,
      "metadata": {},
      "outputs": [],
      "source": [
        "# 4. Price vs. Discount %\n",
        "fig = px.scatter(df, x='market_price', y='discount_percent',\n",
        "                 color='category',\n",
        "                 title='Discount % vs Market Price',\n",
        "                 hover_data=['product','brand'])\n",
        "\n",
        "fig.show()"
      ]
    },
    {
      "cell_type": "code",
      "execution_count": null,
      "metadata": {},
      "outputs": [],
      "source": [
        "# 5. Price Range Distribution\n",
        "fig = px.histogram(df, x='price_range', color='category',\n",
        "                   title='Product Distribution by Price Range',\n",
        "                   barmode='group')\n",
        "\n",
        "fig.show()"
      ]
    },
    {
      "cell_type": "code",
      "execution_count": null,
      "metadata": {},
      "outputs": [],
      "source": [
        "# 6. Ratings Distribution\n",
        "plt.figure(figsize=(10,5))\n",
        "sns.histplot(df['rating'], bins= 20, kde = True)\n",
        "plt.title('Product Ratings Distribution')\n",
        "plt.xlabel('Rating')\n",
        "plt.ylabel('Count')\n",
        "plt.show()"
      ]
    },
    {
      "cell_type": "markdown",
      "metadata": {},
      "source": [
        "## Step 3: Insights & Suggestions\n",
        "\n",
        "### A. Top Categories:\n",
        "- Insight: Which categories have the highest number of products?\n",
        "- Suggestion: Focus marketing efforts on categories with high product listings. You can create special promotions for these categories to boost sales."
      ]
    },
    {
      "cell_type": "code",
      "execution_count": null,
      "metadata": {},
      "outputs": [],
      "source": [
        "top_categories = df['category'].value_counts().nlargest(5)\n",
        "top_categories"
      ]
    },
    {
      "cell_type": "markdown",
      "metadata": {},
      "source": [
        "### B. Price Range Analysis:\n",
        "- Insight: Products are spread across different price ranges. Where are the majority of products positioned?\n",
        "\n",
        "- Suggestion: Offer discounts in price segments where many products exist to boost sales. Or create premium offerings in higher price ranges."
      ]
    },
    {
      "cell_type": "code",
      "execution_count": null,
      "metadata": {},
      "outputs": [],
      "source": [
        "price_range = df['sale_price'].describe()\n",
        "price_range"
      ]
    },
    {
      "cell_type": "markdown",
      "metadata": {},
      "source": [
        "### C. Discount Effectiveness:\n",
        "- Insight: Are discounts effective across product categories? Do we see a correlation between discount and sales price?\n",
        "\n",
        "- Suggestion: Products with higher discounts should be marketed aggressively to increase sales volume."
      ]
    },
    {
      "cell_type": "code",
      "execution_count": null,
      "metadata": {},
      "outputs": [],
      "source": [
        "discount_vs_price = df[['sale_price','market_price','discount_percent']].corr()\n",
        "discount_vs_price"
      ]
    },
    {
      "cell_type": "markdown",
      "metadata": {},
      "source": [
        "### D. Brand Performance:\n",
        "- Insight: Which brands are the top performers?\n",
        "\n",
        "- Suggestion: Partnerships or exclusive products with top-performing brands could enhance sales. You can also look at whether products from popular brands have higher ratings or sell faster."
      ]
    },
    {
      "cell_type": "code",
      "execution_count": null,
      "metadata": {},
      "outputs": [],
      "source": [
        "top_brands = df['brand'].value_counts().nlargest(5)\n",
        "top_brands"
      ]
    },
    {
      "cell_type": "markdown",
      "metadata": {},
      "source": [
        "### E. Rating Distribution:\n",
        "- Insight: Which products are performing well based on user ratings? High ratings often correlate with customer loyalty.\n",
        "\n",
        "- Suggestion: Promote products with higher ratings through targeted campaigns. Additionally, consider offering discounts for products with lower ratings to clear stock."
      ]
    },
    {
      "cell_type": "code",
      "execution_count": null,
      "metadata": {},
      "outputs": [],
      "source": [
        "high_rated_products = df[df['rating'] >= 4.0][['product', 'rating']]\n",
        "high_rated_products.head(10)"
      ]
    },
    {
      "cell_type": "markdown",
      "metadata": {},
      "source": [
        "### F. Suggestions Summary:\n",
        "- Summarize all key insights in a text file for reporting:"
      ]
    },
    {
      "cell_type": "code",
      "execution_count": null,
      "metadata": {},
      "outputs": [],
      "source": [
        "insights_text = f\"\"\"\n",
        "📊 Business Insights Report\n",
        "\n",
        "1. 🛒 **Top Product Categories**\n",
        "   - The most stocked and diverse categories are:\n",
        "     {top_categories}\n",
        "   - 👉 *Recommendation:* Prioritize promotions and campaigns around these categories to attract more buyers.\n",
        "\n",
        "2. 💸 **Average Product Pricing**\n",
        "   - The average price for most products falls between:\n",
        "     {price_range}\n",
        "   - 👉 *Recommendation:* Offer special discounts on moderately priced products. This will help increase sales while keeping profit margins healthy.\n",
        "\n",
        "3. 🧾 **Impact of Discounts on Sales**\n",
        "   - There is a clear trend: **Products with higher discounts tend to sell more**. For example, products with discounts of **X%** show an increase in sales of **Y%**.\n",
        "   - 👉 *Recommendation:* Focus on marketing products with attractive discounts, as these are likely to bring in more customers.\n",
        "\n",
        "4. 🔝 **Top Performing Brands**\n",
        "   - The most successful and popular brands are:\n",
        "     {top_brands}\n",
        "   - 👉 *Recommendation:* Strengthen relationships with these brands through collaborations, bundling, or exclusive deals.\n",
        "\n",
        "5. ⭐ **Best Rated Products**\n",
        "   - Products with **ratings above 4.0** are consistently preferred by customers.\n",
        "   - 👉 *Recommendation:* Feature these highly-rated products prominently on your website and in promotional materials to boost customer confidence.\n",
        "\n",
        "📝 **Summary**:\n",
        "Focus your business strategies on high-performing categories and brands, offer targeted discounts on mid-priced items, and showcase top-rated products to improve customer trust and engagement.\n",
        "\n",
        "\"\"\"\n",
        "\n",
        "\n",
        "# Save the insights to a text file\n",
        "with open(\"../reports/suggestion.txt\", \"w\", encoding=\"utf-8\") as f:\n",
        "    f.write(insights_text)\n"
      ]
    }
  ],
  "metadata": {
    "colab": {
      "provenance": []
    },
    "kernelspec": {
      "display_name": "Python 3",
      "name": "python3"
    },
    "language_info": {
      "codemirror_mode": {
        "name": "ipython",
        "version": 3
      },
      "file_extension": ".py",
      "mimetype": "text/x-python",
      "name": "python",
      "nbconvert_exporter": "python",
      "pygments_lexer": "ipython3",
      "version": "3.12.3"
    }
  },
  "nbformat": 4,
  "nbformat_minor": 0
}
